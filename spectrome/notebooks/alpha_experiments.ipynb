{
 "cells": [
  {
   "cell_type": "code",
   "execution_count": 1,
   "metadata": {},
   "outputs": [],
   "source": [
    "# this path append is for binder only\n",
    "import sys\n",
    "sys.path.append(\"../../\")\n",
    "\n",
    "#spectrome modules\n",
    "from spectrome.forward import runforward, runforward_spatialcorrelation_topalpha\n",
    "from spectrome.utils import functions, path\n",
    "from spectrome.brain import Brain\n",
    "from spectrome.forward import localstability_microintensity\n",
    "from spectrome.forward import network_transfer_macrostable_microintensity_extrastimulus as nt\n",
    "\n",
    "#generic modules\n",
    "import matplotlib.pyplot as plt\n",
    "import numpy as np\n",
    "import xarray as xr\n",
    "import pandas as pd\n",
    "import seaborn as sns\n",
    "import pickle as pkl\n",
    "from scipy import stats\n",
    "from scipy.stats import pearsonr\n",
    "from scipy.io import loadmat\n",
    "\n",
    "plt.rcParams.update({\n",
    "    \"mathtext.fontset\": \"stix\",\n",
    "    \"font.family\": \"STIXGeneral\",\n",
    "    \"xtick.labelsize\": 12,\n",
    "    \"ytick.labelsize\": 12\n",
    "})"
   ]
  },
  {
   "cell_type": "code",
   "execution_count": 2,
   "metadata": {},
   "outputs": [],
   "source": [
    "# ind_psd_xr = xr.open_dataarray(data_dir + '/individual_psd_reordered_smooth.nc')\n",
    "ind_psd_xr = xr.open_dataarray('../data/individual_psd_reordered_matlab.nc')\n",
    "ind_psd = ind_psd_xr.values\n",
    "\n",
    "ind_regions = ind_psd_xr[\"regionx\"].values"
   ]
  },
  {
   "cell_type": "code",
   "execution_count": 3,
   "metadata": {},
   "outputs": [
    {
     "data": {
      "text/plain": [
       "array(['LHbankssts', 'LHcaudalanteriorcingulate', 'LHcaudalmiddlefrontal',\n",
       "       'LHcuneus', 'LHentorhinal', 'LHfusiform', 'LHinferiorparietal',\n",
       "       'LHinferiortemporal', 'LHisthmuscingulate', 'LHlateraloccipital',\n",
       "       'LHlateralorbitofrontal', 'LHlingual', 'LHmedialorbitofrontal',\n",
       "       'LHmiddletemporal', 'LHparahippocampal', 'LHparacentral',\n",
       "       'LHparsopercularis', 'LHparsorbitalis', 'LHparstriangularis',\n",
       "       'LHpericalcarine', 'LHpostcentral', 'LHposteriorcingulate',\n",
       "       'LHprecentral', 'LHprecuneus', 'LHrostralanteriorcingulate',\n",
       "       'LHrostralmiddlefrontal', 'LHsuperiorfrontal',\n",
       "       'LHsuperiorparietal', 'LHsuperiortemporal', 'LHsupramarginal',\n",
       "       'LHfrontalpole', 'LHtemporalpole', 'LHtransversetemporal',\n",
       "       'LHinsula', 'RHbankssts', 'RHcaudalanteriorcingulate',\n",
       "       'RHcaudalmiddlefrontal', 'RHcuneus', 'RHentorhinal', 'RHfusiform',\n",
       "       'RHinferiorparietal', 'RHinferiortemporal', 'RHisthmuscingulate',\n",
       "       'RHlateraloccipital', 'RHlateralorbitofrontal', 'RHlingual',\n",
       "       'RHmedialorbitofrontal', 'RHmiddletemporal', 'RHparahippocampal',\n",
       "       'RHparacentral', 'RHparsopercularis', 'RHparsorbitalis',\n",
       "       'RHparstriangularis', 'RHpericalcarine', 'RHpostcentral',\n",
       "       'RHposteriorcingulate', 'RHprecentral', 'RHprecuneus',\n",
       "       'RHrostralanteriorcingulate', 'RHrostralmiddlefrontal',\n",
       "       'RHsuperiorfrontal', 'RHsuperiorparietal', 'RHsuperiortemporal',\n",
       "       'RHsupramarginal', 'RHfrontalpole', 'RHtemporalpole',\n",
       "       'RHtransversetemporal', 'RHinsula'], dtype=object)"
      ]
     },
     "execution_count": 3,
     "metadata": {},
     "output_type": "execute_result"
    }
   ],
   "source": [
    "ind_regions"
   ]
  },
  {
   "cell_type": "code",
   "execution_count": 4,
   "metadata": {},
   "outputs": [],
   "source": [
    "visual_regions = ['LHlingual','LHpericalcarine','LHcuneus','LHlateraloccipital','LHsuperiorparietal','LHtemporalpole',\n",
    "                  'LHfusiform','LHinferiortemporal','RHlingual','RHpericalcarine','RHcuneus','RHlateraloccipital',\n",
    "                  'RHsuperiorparietal','RHtemporalpole','RHfusiform','RHinferiortemporal']\n",
    "                  "
   ]
  },
  {
   "cell_type": "code",
   "execution_count": 5,
   "metadata": {},
   "outputs": [],
   "source": [
    "d = {x: a for a, x in enumerate(ind_regions)}\n",
    "orderedind = [d[x] for x in visual_regions]"
   ]
  },
  {
   "cell_type": "code",
   "execution_count": 6,
   "metadata": {},
   "outputs": [
    {
     "data": {
      "text/plain": [
       "[11, 19, 3, 9, 27, 31, 5, 7, 45, 53, 37, 43, 61, 65, 39, 41]"
      ]
     },
     "execution_count": 6,
     "metadata": {},
     "output_type": "execute_result"
    }
   ],
   "source": [
    "orderedind"
   ]
  },
  {
   "cell_type": "code",
   "execution_count": 7,
   "metadata": {},
   "outputs": [],
   "source": [
    "for i in range(len(visual_regions)):\n",
    "    assert ind_regions[orderedind[i]] == visual_regions[i]"
   ]
  },
  {
   "cell_type": "code",
   "execution_count": 8,
   "metadata": {},
   "outputs": [
    {
     "data": {
      "text/plain": [
       "array(['LHlingual', 'LHpericalcarine', 'LHcuneus', 'LHlateraloccipital',\n",
       "       'LHsuperiorparietal', 'LHtemporalpole', 'LHfusiform',\n",
       "       'LHinferiortemporal', 'RHlingual', 'RHpericalcarine', 'RHcuneus',\n",
       "       'RHlateraloccipital', 'RHsuperiorparietal', 'RHtemporalpole',\n",
       "       'RHfusiform', 'RHinferiortemporal'], dtype=object)"
      ]
     },
     "execution_count": 8,
     "metadata": {},
     "output_type": "execute_result"
    }
   ],
   "source": [
    "ind_regions[orderedind]\n",
    "\n",
    "# Only use cuneus. Visual eye projection goes. \n",
    "#  Can also include lateral occipital"
   ]
  },
  {
   "cell_type": "code",
   "execution_count": 9,
   "metadata": {},
   "outputs": [],
   "source": [
    "def run_local_coupling_forward(brain, params, freqs):\n",
    "\n",
    "    eigenvalues = []\n",
    "    eigenvectors = []\n",
    "    frequency_response = []\n",
    "    model_out = []\n",
    "\n",
    "    for freq in freqs:\n",
    "        w = 2 * np.pi * freq\n",
    "        freq_model, freq_resp, eig_val, eig_vec = nt.network_transfer_local_alpha(\n",
    "            brain, params, w\n",
    "        )\n",
    "        frequency_response.append(freq_resp)\n",
    "        eigenvalues.append(eig_val)\n",
    "        eigenvectors.append(eig_vec)\n",
    "        model_out.append(freq_model)\n",
    "\n",
    "    frequency_response = np.asarray(frequency_response)\n",
    "    eigenvalues = np.asarray(eigenvalues)\n",
    "    eigenvectors = np.asarray(eigenvectors)\n",
    "    model_out = np.transpose(np.asarray(model_out))\n",
    "\n",
    "    return model_out, frequency_response, eigenvalues, eigenvectors\n",
    "\n",
    "def run_local_coupling_forward_Xk(brain, params, freqs, PSD, SC, rois_with_MEG, band):\n",
    "\n",
    "    if band == \"alpha\":\n",
    "        freqband = np.where((freqs>=8) & (freqs<=12))[0]\n",
    "    if band == \"beta\":\n",
    "        freqband = np.where((freqs>=13) & (freqs<=25))[0]\n",
    "\n",
    "    eigvec_ns = np.zeros((len(rois_with_MEG),len(freqband)))\n",
    "\n",
    "    for i in range(len(freqband)):\n",
    "        w = 2 * np.pi * freqs[freqband[i]]\n",
    "        eigenvectors_ns, _, _, _ = nt.network_transfer_local_alpha(\n",
    "            brain, params, w\n",
    "        )\n",
    "\n",
    "        eigvec_ns[:,i] = eigenvectors_ns[rois_with_MEG]\n",
    "\n",
    "    eigvec_ns_summed = np.sum(eigvec_ns,axis = 1)\n",
    "\n",
    "    eigvec_summed = eigvec_ns_summed/np.linalg.norm(eigvec_ns_summed)\n",
    "\n",
    "    summed_PSD = np.sum(PSD[:,freqband], axis = 1)\n",
    "\n",
    "    summed_PSD = summed_PSD/np.linalg.norm(summed_PSD)\n",
    "\n",
    "    w_spat = 10.0\n",
    "\n",
    "    C = brain.reducedConnectome\n",
    "    rowdegree = np.transpose(np.sum(C, axis=1))\n",
    "    coldegree = np.sum(C, axis=0)\n",
    "    qind = rowdegree + coldegree < 0.2 * np.mean(rowdegree + coldegree)\n",
    "    rowdegree[qind] = np.inf\n",
    "    coldegree[qind] = np.inf\n",
    "    L2 = np.divide(1, np.sqrt(np.multiply(rowdegree, coldegree)) + np.spacing(1))\n",
    "    Cc = np.matmul(np.diag(L2), C)\n",
    "    \n",
    "    C2 = Cc + w_spat*np.eye(86)\n",
    "    rowdegree = np.transpose(np.sum(C2, axis=1))\n",
    "    coldegree = np.sum(C2, axis=0)\n",
    "    qind = rowdegree + coldegree < 0.2 * np.mean(rowdegree + coldegree)\n",
    "    rowdegree[qind] = np.inf\n",
    "    coldegree[qind] = np.inf\n",
    "    L22 = np.divide(1, np.sqrt(np.multiply(rowdegree, coldegree)) + np.spacing(1))\n",
    "    Cc2 = np.matmul(np.diag(L22), C2)    \n",
    "    \n",
    "    \n",
    "    func1 = np.matmul(Cc2[0:68,0:68], summed_PSD)\n",
    "    \n",
    "    cost_func =  np.matmul(np.transpose(eigvec_summed),func1)\n",
    "    \n",
    "    # return cost_func\n",
    "    return summed_PSD, eigvec_summed    "
   ]
  },
  {
   "cell_type": "code",
   "execution_count": 10,
   "metadata": {},
   "outputs": [],
   "source": [
    "def getpsd(cdk,psd,rois_with_MEG,fvec,lpf,s,df_in):\n",
    "\n",
    "    C_ind = cdk[:,:,s] # grab current subject's individual connectome\n",
    "    F_ind = psd[:,:,s] # grab current subject's MEG\n",
    "\n",
    "    data_dir = path.get_data_path()\n",
    "    # create spectrome brain:\n",
    "    brain = Brain.Brain()\n",
    "    brain.add_connectome(data_dir) # grabs distance matrix\n",
    "    # re-ordering for DK atlas and normalizing the connectomes:\n",
    "    brain.reorder_connectome(brain.connectome, brain.distance_matrix)\n",
    "    brain.connectome = C_ind # re-assign connectome to individual connectome\n",
    "    # brain.connectome = SC_volnorm_template\n",
    "    brain.bi_symmetric_c()\n",
    "    brain.reduce_extreme_dir()\n",
    "#     brain.distance_matrix = get_mean_C(brain.distance_matrix)\n",
    "\n",
    "    brain.ntf_params[\"tau_e\"] = df_in['tau_e'][s]/1000\n",
    "    brain.ntf_params[\"tau_i\"] = df_in['tau_i'][s]/1000\n",
    "    brain.ntf_params[\"alpha\"] = df_in['alpha'][s]\n",
    "    brain.ntf_params[\"speed\"] = df_in['speed'][s]\n",
    "    brain.ntf_params[\"gei\"] = df_in['gei'][s]\n",
    "    brain.ntf_params[\"gii\"] = df_in['gii'][s]\n",
    "    brain.ntf_params[\"tauC\"] = df_in['tauC'][s]/1000\n",
    "\n",
    "    model_spectrum, _, _, _ = run_local_coupling_forward(brain, brain.ntf_params, fvec)\n",
    "\n",
    "    model_spectrum = model_spectrum[rois_with_MEG,:]\n",
    "    \n",
    "    filfinal = 0\n",
    "    for g in range(len(model_spectrum)):\n",
    "        spectrum = np.abs(model_spectrum[g,:])\n",
    "        # filtered = functions.mag2db(np.convolve(spectrum, lpf, 'same'))\n",
    "        \n",
    "        filtered = functions.mag2db(spectrum)\n",
    "#         filtered = (filtered - np.mean(filtered))/(np.std(filtered))\n",
    "        filfinal += filtered\n",
    "\n",
    "    filfinal = filfinal/len(model_spectrum)\n",
    "\n",
    "    # Return average psd for a specific subject (old or new depending on choice)\n",
    "\n",
    "    meg_spat, model_spat = run_local_coupling_forward_Xk(brain, brain.ntf_params, fvec, F_ind, 86, rois_with_MEG,\"alpha\")\n",
    "    \n",
    "    return filfinal, meg_spat, model_spat\n",
    "\n"
   ]
  },
  {
   "cell_type": "code",
   "execution_count": 11,
   "metadata": {},
   "outputs": [],
   "source": [
    "# define data directory\n",
    "data_dir = path.get_data_path()\n",
    "\n",
    "# cortical areas with MEG collected + source reconstructed\n",
    "rois_with_MEG = np.arange(0,68)\n",
    "\n",
    "\n",
    "## Load MEG:\n",
    "## individual connectomes, this is a Nregion x Nregion x Nsubjects array:\n",
    "ind_conn_xr = xr.open_dataarray('../data/individual_connectomes_reordered.nc')\n",
    "ind_conn = ind_conn_xr.values\n",
    "\n",
    "# ind_psd_xr = xr.open_dataarray(data_dir + '/individual_psd_reordered_smooth.nc')\n",
    "ind_psd_xr = xr.open_dataarray('../data/individual_psd_reordered_matlab.nc')\n",
    "ind_psd = ind_psd_xr.values\n",
    "\n",
    "fvec = ind_psd_xr[\"frequencies\"].values\n",
    "\n",
    "lpf = np.array([1, 2, 3, 2, 1])\n",
    "lpf = lpf/np.sum(lpf)\n",
    "\n",
    "w_10I_ind_stableg_microint_highv = np.loadtxt(\"/data/rajlab1/user_data/parul/spectromeP_results/results_globalSGM/chang_tauiu200_g10_macrostable_spatial_pw1_nodb/onlyuk_1spectral_1spatial_10weightedcorr_org_ind_microint_highspeed_stableg.csv\",delimiter=\",\")\n",
    "w_10I_ind_stableg_microint_highv_sorted = w_10I_ind_stableg_microint_highv[np.argsort(w_10I_ind_stableg_microint_highv[:,10])]\n",
    "\n",
    "w_chosen = w_10I_ind_stableg_microint_highv_sorted\n",
    "\n",
    "df_params=pd.DataFrame({'tau_e':w_chosen[:,0], 'tau_i':w_chosen[:,1], 'alpha':w_chosen[:,2], 'speed':w_chosen[:,3], 'gei':w_chosen[:,4], 'gii':w_chosen[:,5], 'tauC':w_chosen[:,6]})\n"
   ]
  },
  {
   "cell_type": "code",
   "execution_count": 12,
   "metadata": {},
   "outputs": [],
   "source": [
    "nsubs = len(w_chosen[:,0])\n",
    "new_spectra = 0\n",
    "org_spectra_overall = 0\n",
    "meg_spat_tot = 0\n",
    "model_spat_tot = 0\n",
    "\n",
    "for i in range(nsubs):\n",
    "    \n",
    "    spec_predicted, meg_spat, model_spat = getpsd(ind_conn,ind_psd,rois_with_MEG,fvec,lpf,i,df_params)\n",
    "    new_spectra += spec_predicted\n",
    "    meg_spat_tot += meg_spat\n",
    "    model_spat_tot += model_spat\n",
    "\n",
    "    org_spectra = 0\n",
    "    for g in rois_with_MEG:\n",
    "        # spectrum = ind_psd[g,:,i]\n",
    "        spectrum = functions.mag2db(ind_psd[g,:,i])\n",
    "#         spectrum = (spectrum - np.mean(spectrum))/(np.std(spectrum))\n",
    "        org_spectra += spectrum\n",
    "    org_spectra = org_spectra/len(rois_with_MEG)\n",
    "\n",
    "    org_spectra_overall += org_spectra\n",
    "\n",
    "new_spectra = new_spectra/nsubs\n",
    "org_spectra_overall = org_spectra_overall/nsubs\n",
    "\n",
    "meg_spat_tot = meg_spat_tot/nsubs\n",
    "model_spat_tot = model_spat_tot/nsubs"
   ]
  },
  {
   "cell_type": "code",
   "execution_count": 13,
   "metadata": {},
   "outputs": [
    {
     "data": {
      "image/png": "[encoded data removed]",
      "text/plain": [
       "<Figure size 432x288 with 1 Axes>"
      ]
     },
     "metadata": {
      "needs_background": "light"
     },
     "output_type": "display_data"
    }
   ],
   "source": [
    "plt.rcParams.update({\n",
    "    \"mathtext.fontset\": \"stix\",\n",
    "    \"font.family\": \"STIXGeneral\",\n",
    "    \"xtick.labelsize\": 15,\n",
    "    \"ytick.labelsize\": 15\n",
    "})\n",
    "\n",
    "new_c = '#0571b0'\n",
    "\n",
    "new_normalized = (new_spectra - np.mean(new_spectra))/(np.std(new_spectra))\n",
    "org_normalized = (org_spectra_overall - np.mean(org_spectra_overall))/(np.std(org_spectra_overall))\n",
    "\n",
    "colorp = sns.color_palette(\"colorblind\",n_colors=3)\n",
    "\n",
    "fig, ax = plt.subplots()\n",
    "\n",
    "\n",
    "ax.plot(fvec,org_normalized,linestyle = '-',marker = 's',fillstyle = 'none',color = 'k', label = \"MEG\", alpha = 0.8)\n",
    "ax.plot(fvec,new_normalized,linestyle = '-',marker = 'o',fillstyle = 'none',color = new_c, label = \"SGM\", alpha = 0.8)\n",
    "\n",
    "ax.legend(fontsize = 20)\n",
    "ax.set_xlabel('Frequency (Hz)', fontsize = 25)\n",
    "ax.set_ylabel('Normalized PSD', fontsize = 25)\n",
    "\n",
    "plt.tight_layout()\n"
   ]
  },
  {
   "cell_type": "code",
   "execution_count": 14,
   "metadata": {},
   "outputs": [],
   "source": [
    "# filename = f'/data/rajlab1/user_data/parul/spectrome-spatial_results/results/spatial/visual/notallstable_wrongq1.p'\n",
    "# with open(filename, 'wb') as f:\n",
    "#     pkl.dump(model_spat_tot, f) "
   ]
  },
  {
   "cell_type": "code",
   "execution_count": 15,
   "metadata": {},
   "outputs": [
    {
     "data": {
      "text/plain": [
       "(86, 1)"
      ]
     },
     "execution_count": 15,
     "metadata": {},
     "output_type": "execute_result"
    }
   ],
   "source": [
    "Pw = np.ones((86,1))\n",
    "visual_stimulus_roi = np.array([11, 19, 3, 9, 27, 31, 5, 7, 45, 53, 37, 43, 61, 65, 39, 41])\n",
    "\n",
    "Pw[visual_stimulus_roi] *= 2\n",
    "\n",
    "Htotal_micro = np.ones((86,1),dtype=\"complex\")\n",
    "\n",
    "Htotal_micro_vis = np.multiply(Htotal_micro,Pw)\n",
    "\n",
    "Htotal_micro_vis.shape"
   ]
  },
  {
   "cell_type": "code",
   "execution_count": null,
   "metadata": {},
   "outputs": [],
   "source": []
  }
 ],
 "metadata": {
  "kernelspec": {
   "display_name": "spectrome",
   "language": "python",
   "name": "spectrome"
  },
  "language_info": {
   "codemirror_mode": {
    "name": "ipython",
    "version": 3
   },
   "file_extension": ".py",
   "mimetype": "text/x-python",
   "name": "python",
   "nbconvert_exporter": "python",
   "pygments_lexer": "ipython3",
   "version": "3.8.5"
  }
 },
 "nbformat": 4,
 "nbformat_minor": 4
}
