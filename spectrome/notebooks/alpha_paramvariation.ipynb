{
 "cells": [
  {
   "cell_type": "code",
   "execution_count": 1,
   "metadata": {},
   "outputs": [],
   "source": [
    "# this path append is for binder only\n",
    "import sys\n",
    "sys.path.append(\"../../\")\n",
    "\n",
    "#spectrome modules\n",
    "# from spectrome.forward import runforward, runforward_spatialcorrelation_topalpha\n",
    "from spectrome.utils import functions, path\n",
    "from spectrome.brain import Brain\n",
    "# from spectrome.stability import localstability_microintensity_allrois\n",
    "from spectrome.stability import localstability\n",
    "# from spectrome.forward import network_transfer_macrostable_microintensity_extrastimulus as nt\n",
    "# from spectrome.forward import network_transfer_macrostable_microintensity as nt_nostimulus\n",
    "from spectrome.forward import network_transfer_macrostable as nt\n",
    "\n",
    "#generic modules\n",
    "import matplotlib.pyplot as plt\n",
    "import numpy as np\n",
    "import xarray as xr\n",
    "import pandas as pd\n",
    "import seaborn as sns\n",
    "import pickle as pkl\n",
    "from scipy import stats\n",
    "from scipy.stats import pearsonr\n",
    "from scipy.io import loadmat\n",
    "from sklearn.preprocessing import minmax_scale\n",
    "\n",
    "pd.DataFrame.iteritems = pd.DataFrame.items\n",
    "\n",
    "plt.rcParams.update({\n",
    "    \"mathtext.fontset\": \"stix\",\n",
    "    \"font.family\": \"STIXGeneral\",\n",
    "    \"xtick.labelsize\": 12,\n",
    "    \"ytick.labelsize\": 12\n",
    "})"
   ]
  },
  {
   "cell_type": "code",
   "execution_count": 23,
   "metadata": {},
   "outputs": [],
   "source": [
    "data_dir = path.get_data_path()\n",
    "\n",
    "# cortical areas with MEG collected + source reconstructed\n",
    "rois_with_MEG = np.arange(0,68)\n",
    "\n",
    "ind_psd_xr = xr.open_dataarray('../data/individual_psd_reordered_matlab.nc')\n",
    "ind_psd = ind_psd_xr.values\n",
    "\n",
    "ind_conn_xr = xr.open_dataarray('../data/individual_connectomes_reordered.nc')\n",
    "ind_conn = ind_conn_xr.values\n",
    "\n",
    "ind_regions = ind_conn_xr[\"regionx\"].values\n",
    "\n",
    "fvec = ind_psd_xr[\"frequencies\"].values\n",
    "\n",
    "lpf = np.array([1, 2, 3, 2, 1])\n",
    "lpf = lpf/np.sum(lpf)\n",
    "\n",
    "# w_10I_ind_stableg_microint_highv = np.loadtxt(\"/data/rajlab1/user_data/parul/spectromeP_results/results_globalSGM/chang_tauiu200_stableg_macrostable_spatial_nodb/spectral_spatial_10weightedcorr_ind_allstable_microint.csv\",delimiter=\",\")\n",
    "# w_10I_ind_stableg_microint_highv = np.loadtxt(\"/data/rajlab1/user_data/parul/spectromeP_results/results_globalSGM/alpha_experiments/microint_receptors_gei_nogee_receptorscaled.csv\",delimiter=\",\")\n",
    "w_10I_ind_stableg_microint_highv = np.loadtxt(\"/data/rajlab1/user_data/parul/spectromeP_results/results_globalSGM/alpha_experiments/noreducedC_Cnormalized_mahalanobis2/orgSGM_chang_ind.csv\",delimiter=\",\")\n",
    "\n",
    "\n",
    "w_10I_ind_stableg_microint_highv_sorted = w_10I_ind_stableg_microint_highv[np.argsort(w_10I_ind_stableg_microint_highv[:,10])]\n",
    "\n",
    "w_chosen = w_10I_ind_stableg_microint_highv_sorted\n",
    "\n",
    "df_params=pd.DataFrame({'tau_e':w_chosen[:,0], 'tau_i':w_chosen[:,1], 'alpha':w_chosen[:,2], 'speed':w_chosen[:,3], 'gei':w_chosen[:,4], 'gii':w_chosen[:,5], 'tauC':w_chosen[:,6]})\n",
    "\n",
    "ind_conn_regions = ind_conn_xr[\"regionx\"].values"
   ]
  },
  {
   "cell_type": "code",
   "execution_count": 24,
   "metadata": {},
   "outputs": [],
   "source": [
    "def run_local_coupling_forward(brain, params, freqs, stimulus_roi, w_var, w_means):\n",
    "\n",
    "    eigenvalues = []\n",
    "    eigenvectors = []\n",
    "    frequency_response = []\n",
    "    model_out = []\n",
    "    \n",
    "\n",
    "    for freq in freqs:\n",
    "        w = 2 * np.pi * freq\n",
    "        freq_model, freq_resp, eig_val, eig_vec = nt.network_transfer_local_alpha(\n",
    "            brain, params, w, stimulus_roi, w_var, w_means\n",
    "        )\n",
    "        frequency_response.append(freq_resp)\n",
    "        eigenvalues.append(eig_val)\n",
    "        eigenvectors.append(eig_vec)\n",
    "        model_out.append(freq_model)\n",
    "       \n",
    "\n",
    "    frequency_response = np.asarray(frequency_response)\n",
    "    eigenvalues = np.asarray(eigenvalues)\n",
    "    eigenvectors = np.asarray(eigenvectors)\n",
    "    model_out = np.transpose(np.asarray(model_out))\n",
    "   \n",
    "\n",
    "    return model_out, frequency_response, eigenvalues, eigenvectors\n",
    "\n",
    "def run_local_coupling_forward_Xk(brain, params, freqs, PSD, SC, rois_with_MEG, band, stimulus_roi, w_var, w_means):\n",
    "\n",
    "    if band == \"alpha\":\n",
    "        freqband = np.where((freqs>=8) & (freqs<=12))[0]\n",
    "    if band == \"beta\":\n",
    "        freqband = np.where((freqs>=13) & (freqs<=25))[0]\n",
    "\n",
    "    eigvec_ns = np.zeros((len(rois_with_MEG),len(freqband)))\n",
    "\n",
    "    for i in range(len(freqband)):\n",
    "        w = 2 * np.pi * freqs[freqband[i]]\n",
    "        eigenvectors_ns, _, _, _ = nt.network_transfer_local_alpha(\n",
    "            brain, params, w, stimulus_roi, w_var, w_means\n",
    "        )\n",
    "\n",
    "        eigvec_ns[:,i] = eigenvectors_ns[rois_with_MEG]\n",
    "        # eigvec_ns[:,i] = eigenvectors_ns\n",
    "\n",
    "    eigvec_ns_summed = np.sum(eigvec_ns,axis = 1)\n",
    "\n",
    "    # eigvec_summed = eigvec_ns_summed/np.linalg.norm(eigvec_ns_summed)\n",
    "\n",
    "    summed_PSD = np.sum(PSD[:,freqband], axis = 1)\n",
    "\n",
    "    # summed_PSD = summed_PSD/np.linalg.norm(summed_PSD)\n",
    "    \n",
    "    return summed_PSD, eigvec_ns_summed    "
   ]
  },
  {
   "cell_type": "code",
   "execution_count": 25,
   "metadata": {},
   "outputs": [],
   "source": [
    "def getpsd(cdk,psd,rois_with_MEG,fvec,lpf,s,df_in, stimulus_roi, w_var, w_means):\n",
    "\n",
    "    C_ind = cdk[:,:,s] # grab current subject's individual connectome\n",
    "    F_ind = psd[:,:,s] # grab current subject's MEG\n",
    "\n",
    "#     ex_template_xr = xr.open_dataarray('/data/rajlab1/shared_data/datasets/neurotransmitters/ex_template.nc')\n",
    "#     ex_template = ex_template_xr.values\n",
    "#     receptor_regions = ex_template_xr[\"regions\"].values\n",
    "\n",
    "#     ind_regions_notpresent = np.where(np.isin(ind_conn_regions, receptor_regions, invert=True))[0]\n",
    "    \n",
    "    # data_dir = path.get_data_path()\n",
    "    # # create spectrome brain:\n",
    "    brain = Brain.Brain()\n",
    "    brain.add_connectome(data_dir) # grabs distance matrix\n",
    "    # # re-ordering for DK atlas and normalizing the connectomes:\n",
    "    brain.reorder_connectome(brain.connectome, brain.distance_matrix)\n",
    "    brain.connectome = C_ind # re-assign connectome to individual connectome\n",
    "    brain.reducedConnectome = brain.connectome\n",
    "    # # brain.connectome = SC_volnorm_template\n",
    "    # brain.bi_symmetric_c()\n",
    "    # brain.reduce_extreme_dir()\n",
    "    # sc_dk_mica = loadmat(\"/data/rajlab1/shared_data/datasets/MICA/mica_sc_dt_aparc_nocorpuscollusum.mat\")\n",
    "\n",
    "    # conn = sc_dk_mica['SC_mean']\n",
    "    # dist = sc_dk_mica['DT_mean']\n",
    "\n",
    "    # create spectrome brain:\n",
    "\n",
    "    # brain = Brain.Brain()\n",
    "    # brain.connectome = conn\n",
    "    # brain.distance_matrix = dist\n",
    "    # brain.reorder_connectome_mica(brain.connectome, brain.distance_matrix)\n",
    "    # brain.reducedConnectome = brain.connectome\n",
    "#     sc_dk_mica = loadmat(\"/data/rajlab1/shared_data/datasets/MICA/mica_sc_dt_aparc.mat\")\n",
    "\n",
    "#     conn = sc_dk_mica['SC_mean']\n",
    "#     dist = sc_dk_mica['DT_mean']\n",
    "#     brain.connectome = conn\n",
    "#     brain.distance_matrix = dist\n",
    "    # brain.reducedConnectome = conn\n",
    "    # brain.bi_symmetric_c_mica()\n",
    "    # brain.reduce_extreme_dir()\n",
    "#     brain.distance_matrix = get_mean_C(brain.distance_matrix)\n",
    "    # brain.connectome = np.delete(brain.connectome,ind_regions_notpresent,0)\n",
    "    # brain.connectome = np.delete(brain.connectome,ind_regions_notpresent,1)\n",
    "    # brain.reducedConnectome = np.delete(brain.reducedConnectome,ind_regions_notpresent,0)\n",
    "    # brain.reducedConnectome = np.delete(brain.reducedConnectome,ind_regions_notpresent,1)\n",
    "    # brain.distance_matrix = np.delete(brain.distance_matrix,ind_regions_notpresent,0)\n",
    "    # brain.distance_matrix = np.delete(brain.distance_matrix,ind_regions_notpresent,1)\n",
    "\n",
    "    brain.ntf_params[\"tau_e\"] = df_in['tau_e'][s]/1000\n",
    "    brain.ntf_params[\"tau_i\"] = df_in['tau_i'][s]/1000\n",
    "    # brain.ntf_params[\"tau_i\"] = 200/1000\n",
    "    brain.ntf_params[\"alpha\"] = df_in['alpha'][s]\n",
    "    brain.ntf_params[\"speed\"] = df_in['speed'][s]\n",
    "    brain.ntf_params[\"gei\"] = df_in['gei'][s]\n",
    "    brain.ntf_params[\"gii\"] = df_in['gii'][s]\n",
    "    brain.ntf_params[\"tauC\"] = df_in['tauC'][s]/1000\n",
    "    \n",
    "#     brain.ntf_params[\"tau_i\"] = 200/1000\n",
    "    \n",
    "#     if df_in['gei'][i] > 0.5:\n",
    "#         brain.ntf_params[\"gei\"] = 0.5\n",
    "        \n",
    "#     if df_in['gii'][i] > 1.5:\n",
    "#         brain.ntf_params[\"gii\"] = 1.5\n",
    "\n",
    "    model_spectrum, _, _, _ = run_local_coupling_forward(brain, brain.ntf_params, fvec, stimulus_roi, w_var, w_means)\n",
    "\n",
    "    model_spectrum = model_spectrum[rois_with_MEG,:]\n",
    "    \n",
    "    filfinal = 0\n",
    "\n",
    "    for g in range(len(model_spectrum)):\n",
    "        spectrum = np.abs(model_spectrum[g,:])        \n",
    "        filtered = functions.mag2db(spectrum)\n",
    "        filfinal += filtered\n",
    "\n",
    "    filfinal = filfinal/len(model_spectrum)\n",
    "\n",
    "    # Return average psd for a specific subject (old or new depending on choice)\n",
    "\n",
    "    meg_spat, model_spat = run_local_coupling_forward_Xk(brain, brain.ntf_params, fvec, F_ind, 86, rois_with_MEG,\"alpha\", stimulus_roi, w_var, w_means)\n",
    "    \n",
    "    return filfinal, meg_spat, model_spat"
   ]
  },
  {
   "cell_type": "code",
   "execution_count": 26,
   "metadata": {},
   "outputs": [],
   "source": [
    "# Find top most regions in alpha band\n",
    "\n",
    "stimulus_roi = np.array([])\n",
    "\n",
    "nsubs = len(w_chosen[:,0])\n",
    "new_spectra = 0\n",
    "new_spectra2 = 0\n",
    "org_spectra_overall = 0\n",
    "meg_spat_tot = 0\n",
    "model_spat_tot = 0\n",
    "\n",
    "w_var = 1\n",
    "w_means = 0\n",
    "\n",
    "model_spectra_stimulus = np.zeros((44,40))\n",
    "\n",
    "\n",
    "for i in range(nsubs):\n",
    "    \n",
    "    spec_predicted, meg_spat, model_spat = getpsd(ind_conn,ind_psd,rois_with_MEG,fvec,lpf,i,df_params, stimulus_roi, w_var, w_means)\n",
    "    new_spectra += spec_predicted/nsubs\n",
    "    meg_spat_tot += meg_spat/nsubs\n",
    "    model_spat_tot += model_spat/nsubs\n",
    "\n",
    "    org_spectra = 0\n",
    "    for g in rois_with_MEG:\n",
    "        # spectrum = ind_psd[g,:,i]\n",
    "        spectrum = functions.mag2db(ind_psd[g,:,i])\n",
    "#         spectrum = (spectrum - np.mean(spectrum))/(np.std(spectrum))\n",
    "        org_spectra += spectrum\n",
    "    org_spectra = org_spectra/len(rois_with_MEG)\n",
    "\n",
    "    org_spectra_overall += org_spectra/nsubs\n",
    "    \n",
    "model_spectra_stimulus[0,:] = new_spectra\n",
    "\n",
    "    "
   ]
  },
  {
   "cell_type": "code",
   "execution_count": 27,
   "metadata": {},
   "outputs": [
    {
     "data": {
      "image/png": "[encoded data removed]",
      "text/plain": [
       "<Figure size 640x480 with 1 Axes>"
      ]
     },
     "metadata": {},
     "output_type": "display_data"
    }
   ],
   "source": [
    "new_c = '#0571b0'\n",
    "\n",
    "new_normalized = (new_spectra - np.mean(new_spectra))/(np.std(new_spectra))\n",
    "org_normalized = (org_spectra_overall - np.mean(org_spectra_overall))/(np.std(org_spectra_overall))\n",
    "\n",
    "colorp = sns.color_palette(\"colorblind\",n_colors=3)\n",
    "\n",
    "fig, ax = plt.subplots()\n",
    "\n",
    "\n",
    "ax.plot(fvec,org_normalized,linestyle = '-',marker = 's',fillstyle = 'none',color = 'k', label = \"MEG\", alpha = 0.8)\n",
    "ax.plot(fvec,new_normalized,linestyle = '-',marker = 'o',fillstyle = 'none',color = new_c, label = \"SGM\", alpha = 0.8)\n",
    "\n",
    "ax.legend(fontsize = 20)\n",
    "ax.set_xlabel('Frequency (Hz)', fontsize = 25)\n",
    "ax.set_ylabel('Normalized PSD', fontsize = 25)\n",
    "\n",
    "plt.tight_layout()\n"
   ]
  },
  {
   "cell_type": "code",
   "execution_count": 7,
   "metadata": {},
   "outputs": [],
   "source": [
    "# import importlib\n",
    "# importlib.reload(nt)"
   ]
  },
  {
   "cell_type": "code",
   "execution_count": 28,
   "metadata": {},
   "outputs": [],
   "source": [
    "# filename = f'/data/rajlab1/user_data/parul/spectrome-spatial_results/results/spatial/noreducedC_Cnormalized_mahalanobis2/alpha_all36subs_model_ind.p'\n",
    "# with open(filename, 'wb') as f:\n",
    "#     pkl.dump(model_spat_tot, f) \n",
    "\n",
    "# filename = f'/data/rajlab1/user_data/parul/spectrome-spatial_results/results/spatial/alpha_all36subs_meg_2.p'\n",
    "# with open(filename, 'wb') as f:\n",
    "#     pkl.dump(meg_spat_tot, f) \n",
    "\n",
    "# filename = f'/data/rajlab1/user_data/parul/spectrome-spatial_results/results/spatial/params/taui_upper_noreducedC_hcp_allstable.p'\n",
    "# with open(filename, 'wb') as f:\n",
    "#     pkl.dump(model_spat_tot, f) "
   ]
  },
  {
   "cell_type": "code",
   "execution_count": 29,
   "metadata": {},
   "outputs": [],
   "source": [
    "# Check stability\n",
    "mica_micro_intensity = np.squeeze(loadmat('/data/rajlab1/shared_data/datasets/MICA/micro_intensity_mean.mat')['micro_intensity_mean'])\n",
    "# Load excitatory profile\n",
    "ex_template_xr = xr.open_dataarray('/data/rajlab1/shared_data/datasets/neurotransmitters/ex_template.nc')\n",
    "ex_template = ex_template_xr.values\n",
    "# Load inhibtory profile\n",
    "inh_template_xr = xr.open_dataarray('/data/rajlab1/shared_data/datasets/neurotransmitters/inh_template.nc')\n",
    "inh_template = inh_template_xr.values\n",
    "\n",
    "st_all = []\n",
    "brain = Brain.Brain()\n",
    "\n",
    "for i in range(nsubs):\n",
    "    brain.ntf_params[\"tau_e\"] = df_params['tau_e'][i]\n",
    "    brain.ntf_params[\"tau_i\"] = df_params['tau_i'][i]\n",
    "    brain.ntf_params[\"gei\"] = df_params['gei'][i]\n",
    "    brain.ntf_params[\"gii\"] = df_params['gii'][i]\n",
    "#     brain.ntf_params[\"tau_i\"] = 200\n",
    "    \n",
    "#     if df_params['gei'][i] > 0.5:\n",
    "#         brain.ntf_params[\"gei\"] = 0.5\n",
    "        \n",
    "#     if df_params['gii'][i] > 1.5:\n",
    "#         brain.ntf_params[\"gii\"] = 1.5\n",
    "\n",
    "        \n",
    "    # st = localstability_microint_receptors_allrois.local_stability(brain.ntf_params,mica_micro_intensity,ex_template,inh_template)\n",
    "    st = localstability.local_stability(brain.ntf_params,mica_micro_intensity)\n",
    "    st_all.append(st)"
   ]
  },
  {
   "cell_type": "code",
   "execution_count": 30,
   "metadata": {},
   "outputs": [
    {
     "name": "stdout",
     "output_type": "stream",
     "text": [
      "(array([], dtype=int64),)\n"
     ]
    }
   ],
   "source": [
    "ind_unstable = np.where(np.array(st_all)>0)\n",
    "print(ind_unstable)\n",
    "# print(np.array(df_params['gei'].tolist())[ind_unstable])\n",
    "# print(np.array(df_params['gii'].tolist())[ind_unstable])"
   ]
  },
  {
   "cell_type": "code",
   "execution_count": 31,
   "metadata": {},
   "outputs": [
    {
     "data": {
      "image/png": "[encoded data removed]",
      "text/plain": [
       "<Figure size 900x400 with 7 Axes>"
      ]
     },
     "metadata": {},
     "output_type": "display_data"
    }
   ],
   "source": [
    "df=pd.DataFrame({r'$\\tau_e$':w_chosen[:,0], r'$\\tau_i$':w_chosen[:,1], r'$\\alpha$':w_chosen[:,2], r'$v$':w_chosen[:,3], r'$g_{ei}$':w_chosen[:,4], r'$g_{ii}$':w_chosen[:,5], r'$\\tau_G$':w_chosen[:,6]})\n",
    "\n",
    "palette = sns.husl_palette(7) \n",
    "\n",
    "fig, ax = plt.subplots(1,7, num=1,  gridspec_kw={'width_ratios':[2,2,2,2,2,2,2]}, figsize=(9, 4))\n",
    "\n",
    "sns.violinplot(data=df[[r'$\\tau_e$']], ax=ax[0],color=palette[0],cut=0)\n",
    "ax[0].set_xlabel('(ms)',fontsize=14)\n",
    "sns.violinplot(data=df[[r'$\\tau_i$']], ax=ax[1],color=palette[1],cut=0)\n",
    "ax[1].set_xlabel('(ms)',fontsize=14)\n",
    "sns.violinplot(data=df[[r'$\\alpha$']], ax=ax[2],color=palette[2],cut=0)\n",
    "sns.violinplot(data=df[[r'$v$']], ax=ax[3],color=palette[3],cut=0)\n",
    "ax[3].set_xlabel('(m/s)',fontsize=14)\n",
    "sns.violinplot(data=df[[r'$g_{ei}$']], ax=ax[4],color=palette[4],cut=0)\n",
    "sns.violinplot(data=df[[r'$g_{ii}$']], ax=ax[5],color=palette[5],cut=0)\n",
    "sns.violinplot(data=df[[r'$\\tau_G$']], ax=ax[6],color=palette[6],cut=0)\n",
    "ax[6].set_xlabel('(ms)',fontsize=14)\n",
    "plt.tight_layout()\n"
   ]
  },
  {
   "cell_type": "code",
   "execution_count": 32,
   "metadata": {},
   "outputs": [
    {
     "data": {
      "image/png": "[encoded data removed]",
      "text/plain": [
       "<Figure size 640x480 with 1 Axes>"
      ]
     },
     "metadata": {},
     "output_type": "display_data"
    }
   ],
   "source": [
    "sns.set_style({'font.family':'serif', 'font.serif':'Times New Roman'})\n",
    "sns.set_style(\"white\")\n",
    "\n",
    "col_ad = \"#b2182b\"\n",
    "col_cont = \"#2166ac\"\n",
    "\n",
    "my_colors = [\"#b2182b\", \"#2166ac\", \n",
    "             \"#b2182b\", \"#2166ac\"]\n",
    "\n",
    "sns.set_palette( my_colors )\n",
    "\n",
    "sns.set(font_scale=1.5, rc={'text.usetex' : True})\n",
    "sns.set(font_scale=2.5, rc={'text.usetex' : True, 'figure.facecolor': 'white', \n",
    "                            'axes.facecolor': 'white', 'axes.edgecolor': 'black',\n",
    "                           'font.family':'serif', 'font.serif':'Times New Roman'})\n",
    "\n",
    "fig, ax = plt.subplots()\n",
    "\n",
    "plt.rcParams.update({\n",
    "    \"xtick.labelsize\": 15,\n",
    "    \"ytick.labelsize\": 15\n",
    "})\n",
    "\n",
    "\n",
    "df_correlations = pd.DataFrame({'spectral': w_chosen[:,8],\n",
    "                               'spatial': w_chosen[:,9]})\n",
    "\n",
    "\n",
    "ax = sns.boxplot(data=df_correlations, ax=ax, palette=my_colors)\n",
    "\n",
    "max_width = 8\n",
    "ax.set_ylabel('Correlation', fontsize=18)\n",
    "# ax.set_ylim([0.5,1.0])\n",
    "# ax.set_yticks([0.5,0.6,0.7,0.8,0.9,1.0])\n",
    "\n",
    "plt.tight_layout()"
   ]
  },
  {
   "cell_type": "code",
   "execution_count": 12,
   "metadata": {},
   "outputs": [
    {
     "data": {
      "text/plain": [
       "0.30149402492975763"
      ]
     },
     "execution_count": 12,
     "metadata": {},
     "output_type": "execute_result"
    }
   ],
   "source": [
    "np.mean(w_chosen[:,9])"
   ]
  },
  {
   "cell_type": "code",
   "execution_count": 8,
   "metadata": {},
   "outputs": [],
   "source": [
    "mica_micro_intensity = np.squeeze(loadmat('/data/rajlab1/shared_data/datasets/MICA/micro_intensity_mean.mat')['micro_intensity_mean'])"
   ]
  },
  {
   "cell_type": "code",
   "execution_count": 9,
   "metadata": {},
   "outputs": [
    {
     "data": {
      "text/plain": [
       "1.09498868450775"
      ]
     },
     "execution_count": 9,
     "metadata": {},
     "output_type": "execute_result"
    }
   ],
   "source": [
    "np.amax(mica_micro_intensity)"
   ]
  },
  {
   "cell_type": "code",
   "execution_count": 10,
   "metadata": {},
   "outputs": [
    {
     "data": {
      "text/plain": [
       "0.9070790795823469"
      ]
     },
     "execution_count": 10,
     "metadata": {},
     "output_type": "execute_result"
    }
   ],
   "source": [
    "np.amin(mica_micro_intensity)"
   ]
  },
  {
   "cell_type": "code",
   "execution_count": 9,
   "metadata": {},
   "outputs": [],
   "source": [
    "ex_template_xr = xr.open_dataarray('/data/rajlab1/shared_data/datasets/neurotransmitters/ex_template.nc')\n",
    "ex_template = ex_template_xr.values"
   ]
  },
  {
   "cell_type": "code",
   "execution_count": 10,
   "metadata": {},
   "outputs": [
    {
     "data": {
      "text/plain": [
       "1.1901310550997841"
      ]
     },
     "execution_count": 10,
     "metadata": {},
     "output_type": "execute_result"
    }
   ],
   "source": [
    "np.amax(ex_template)"
   ]
  },
  {
   "cell_type": "code",
   "execution_count": 11,
   "metadata": {},
   "outputs": [
    {
     "data": {
      "text/plain": [
       "0.761029438870883"
      ]
     },
     "execution_count": 11,
     "metadata": {},
     "output_type": "execute_result"
    }
   ],
   "source": [
    "np.amin(ex_template)"
   ]
  },
  {
   "cell_type": "code",
   "execution_count": 12,
   "metadata": {},
   "outputs": [],
   "source": [
    "inh_template_xr = xr.open_dataarray('/data/rajlab1/shared_data/datasets/neurotransmitters/inh_template.nc')\n",
    "inh_template = inh_template_xr.values"
   ]
  },
  {
   "cell_type": "code",
   "execution_count": 13,
   "metadata": {},
   "outputs": [
    {
     "data": {
      "text/plain": [
       "1.4789128669317109"
      ]
     },
     "execution_count": 13,
     "metadata": {},
     "output_type": "execute_result"
    }
   ],
   "source": [
    "np.amax(inh_template)"
   ]
  },
  {
   "cell_type": "code",
   "execution_count": 14,
   "metadata": {},
   "outputs": [
    {
     "data": {
      "text/plain": [
       "0.4630971416795897"
      ]
     },
     "execution_count": 14,
     "metadata": {},
     "output_type": "execute_result"
    }
   ],
   "source": [
    "np.amin(inh_template)"
   ]
  },
  {
   "cell_type": "code",
   "execution_count": 15,
   "metadata": {},
   "outputs": [
    {
     "data": {
      "text/plain": [
       "82"
      ]
     },
     "execution_count": 15,
     "metadata": {},
     "output_type": "execute_result"
    }
   ],
   "source": [
    "len(inh_template)"
   ]
  },
  {
   "cell_type": "code",
   "execution_count": 16,
   "metadata": {},
   "outputs": [],
   "source": [
    "lobes = pd.read_excel(\"/data/rajlab1/shared_data/datasets/RSN/DK_lobes.xlsx\",header=None)"
   ]
  },
  {
   "cell_type": "code",
   "execution_count": 17,
   "metadata": {},
   "outputs": [
    {
     "data": {
      "text/plain": [
       "'Frontal'"
      ]
     },
     "execution_count": 17,
     "metadata": {},
     "output_type": "execute_result"
    }
   ],
   "source": [
    "lobes[1][10]"
   ]
  },
  {
   "cell_type": "code",
   "execution_count": 18,
   "metadata": {},
   "outputs": [],
   "source": [
    "a = 0.9 \n",
    "b = 1.1\n",
    "\n",
    "mine = np.amin(ex_template)\n",
    "maxe = np.amax(ex_template);\n",
    "\n",
    "ex_template_scaled = np.zeros(ex_template.shape)\n",
    "\n",
    "for i in range(len(ex_template)):\n",
    "    ex_template_scaled[i] = (b-a)*(ex_template[i]-mine)/(maxe-mine) + a\n",
    "\n",
    "mine = np.amin(inh_template)\n",
    "maxe = np.amax(inh_template);\n",
    "\n",
    "inh_template_scaled = np.zeros(inh_template.shape)\n",
    "\n",
    "for i in range(len(inh_template)):\n",
    "    inh_template_scaled[i] = (b-a)*(inh_template[i]-mine)/(maxe-mine) + a"
   ]
  },
  {
   "cell_type": "code",
   "execution_count": null,
   "metadata": {},
   "outputs": [],
   "source": []
  }
 ],
 "metadata": {
  "kernelspec": {
   "display_name": "spectrome",
   "language": "python",
   "name": "spectrome"
  },
  "language_info": {
   "codemirror_mode": {
    "name": "ipython",
    "version": 3
   },
   "file_extension": ".py",
   "mimetype": "text/x-python",
   "name": "python",
   "nbconvert_exporter": "python",
   "pygments_lexer": "ipython3",
   "version": "3.8.16"
  }
 },
 "nbformat": 4,
 "nbformat_minor": 4
}
