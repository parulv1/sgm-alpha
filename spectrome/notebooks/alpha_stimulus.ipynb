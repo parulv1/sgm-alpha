{
 "cells": [
  {
   "cell_type": "code",
   "execution_count": 1,
   "metadata": {},
   "outputs": [],
   "source": [
    "# this path append is for binder only\n",
    "import sys\n",
    "sys.path.append(\"../../\")\n",
    "\n",
    "#spectrome modules\n",
    "# from spectrome.forward import runforward, runforward_spatialcorrelation_topalpha\n",
    "from spectrome.utils import functions, path\n",
    "from spectrome.brain import Brain\n",
    "from spectrome.stability import localstability_microintensity\n",
    "from spectrome.forward import network_transfer_macrostable_microintensity_extrastimulus_neurotransmitter as nt\n",
    "from spectrome.forward import network_transfer_macrostable_microintensity as nt_nostimulus\n",
    "\n",
    "#generic modules\n",
    "import matplotlib.pyplot as plt\n",
    "import numpy as np\n",
    "import xarray as xr\n",
    "import pandas as pd\n",
    "import seaborn as sns\n",
    "import pickle as pkl\n",
    "from scipy import stats\n",
    "from scipy.stats import pearsonr\n",
    "from scipy.io import loadmat\n",
    "from sklearn.preprocessing import minmax_scale\n",
    "\n",
    "plt.rcParams.update({\n",
    "    \"mathtext.fontset\": \"stix\",\n",
    "    \"font.family\": \"STIXGeneral\",\n",
    "    \"xtick.labelsize\": 12,\n",
    "    \"ytick.labelsize\": 12\n",
    "})"
   ]
  },
  {
   "cell_type": "code",
   "execution_count": 9,
   "metadata": {},
   "outputs": [],
   "source": [
    "data_dir = path.get_data_path()\n",
    "\n",
    "# cortical areas with MEG collected + source reconstructed\n",
    "rois_with_MEG = np.arange(0,68)\n",
    "\n",
    "ind_psd_xr = xr.open_dataarray('../data/individual_psd_reordered_matlab.nc')\n",
    "ind_psd = ind_psd_xr.values\n",
    "\n",
    "ind_conn_xr = xr.open_dataarray('../data/individual_connectomes_reordered.nc')\n",
    "ind_conn = ind_conn_xr.values\n",
    "\n",
    "ind_regions = ind_conn_xr[\"regionx\"].values\n",
    "\n",
    "fvec = ind_psd_xr[\"frequencies\"].values\n",
    "\n",
    "lpf = np.array([1, 2, 3, 2, 1])\n",
    "lpf = lpf/np.sum(lpf)\n",
    "\n",
    "# w_10I_ind_stableg_microint_highv = np.loadtxt(\"/data/rajlab1/user_data/parul/spectromeP_results/results_globalSGM/chang_tauiu200_stableg_macrostable_spatial_nodb/spectral_spatial_10weightedcorr_ind_allstable_microint.csv\",delimiter=\",\")\n",
    "w_10I_ind_stableg_microint_highv = np.loadtxt(\"/data/rajlab1/user_data/parul/spectromeP_results/results_globalSGM/alpha_experiments/microint_receptors.csv\",delimiter=\",\")\n",
    "\n",
    "w_10I_ind_stableg_microint_highv_sorted = w_10I_ind_stableg_microint_highv[np.argsort(w_10I_ind_stableg_microint_highv[:,10])]\n",
    "\n",
    "w_chosen = w_10I_ind_stableg_microint_highv_sorted\n",
    "\n",
    "df_params=pd.DataFrame({'tau_e':w_chosen[:,0], 'tau_i':w_chosen[:,1], 'alpha':w_chosen[:,2], 'speed':w_chosen[:,3], 'gei':w_chosen[:,4], 'gii':w_chosen[:,5], 'tauC':w_chosen[:,6]})\n",
    "\n",
    "ind_conn_regions = ind_conn_xr[\"regionx\"].values"
   ]
  },
  {
   "cell_type": "code",
   "execution_count": 18,
   "metadata": {},
   "outputs": [],
   "source": [
    "def run_local_coupling_forward(brain, params, freqs, stimulus_roi, w_var, w_means):\n",
    "\n",
    "    eigenvalues = []\n",
    "    eigenvectors = []\n",
    "    frequency_response = []\n",
    "    model_out = []\n",
    "    model_out2 = []\n",
    "\n",
    "    for freq in freqs:\n",
    "        w = 2 * np.pi * freq\n",
    "        freq_model, freq_resp, eig_val, eig_vec = nt.network_transfer_local_alpha(\n",
    "            brain, params, w, stimulus_roi, w_var, w_means\n",
    "        )\n",
    "        frequency_response.append(freq_resp)\n",
    "        eigenvalues.append(eig_val)\n",
    "        eigenvectors.append(eig_vec)\n",
    "        model_out.append(freq_model)\n",
    "        # model_out2.append(freq_model2)\n",
    "\n",
    "    frequency_response = np.asarray(frequency_response)\n",
    "    eigenvalues = np.asarray(eigenvalues)\n",
    "    eigenvectors = np.asarray(eigenvectors)\n",
    "    model_out = np.transpose(np.asarray(model_out))\n",
    "\n",
    "    return model_out, frequency_response, eigenvalues, eigenvectors\n",
    "\n",
    "def run_local_coupling_forward_Xk(brain, params, freqs, PSD, SC, rois_with_MEG, band, stimulus_roi, w_var, w_means):\n",
    "\n",
    "    if band == \"alpha\":\n",
    "        freqband = np.where((freqs>=8) & (freqs<=12))[0]\n",
    "    if band == \"beta\":\n",
    "        freqband = np.where((freqs>=13) & (freqs<=25))[0]\n",
    "\n",
    "    eigvec_ns = np.zeros((len(rois_with_MEG),len(freqband)))\n",
    "\n",
    "    for i in range(len(freqband)):\n",
    "        w = 2 * np.pi * freqs[freqband[i]]\n",
    "        eigenvectors_ns, _, _, _ = nt.network_transfer_local_alpha(\n",
    "            brain, params, w, stimulus_roi, w_var, w_means\n",
    "        )\n",
    "\n",
    "        eigvec_ns[:,i] = eigenvectors_ns[rois_with_MEG]\n",
    "        # eigvec_ns[:,i] = eigenvectors_ns\n",
    "\n",
    "    eigvec_ns_summed = np.sum(eigvec_ns,axis = 1)\n",
    "\n",
    "    # eigvec_summed = eigvec_ns_summed/np.linalg.norm(eigvec_ns_summed)\n",
    "\n",
    "    summed_PSD = np.sum(PSD[:,freqband], axis = 1)\n",
    "\n",
    "    # summed_PSD = summed_PSD/np.linalg.norm(summed_PSD)\n",
    "    \n",
    "    return summed_PSD, eigvec_ns_summed    "
   ]
  },
  {
   "cell_type": "code",
   "execution_count": 19,
   "metadata": {},
   "outputs": [],
   "source": [
    "def getpsd(cdk,psd,rois_with_MEG,fvec,lpf,s,df_in, stimulus_roi, w_var, w_means):\n",
    "\n",
    "    C_ind = cdk[:,:,s] # grab current subject's individual connectome\n",
    "    F_ind = psd[:,:,s] # grab current subject's MEG\n",
    "\n",
    "    # Load excitatory profile\n",
    "    ex_template_xr = xr.open_dataarray('/data/rajlab1/shared_data/datasets/neurotransmitters/ex_template.nc')\n",
    "    ex_template = ex_template_xr.values\n",
    "    receptor_regions = ex_template_xr[\"regions\"].values\n",
    "\n",
    "    ind_regions_notpresent = np.where(np.isin(ind_conn_regions, receptor_regions, invert=True))[0]\n",
    "    \n",
    "    data_dir = path.get_data_path()\n",
    "    # create spectrome brain:\n",
    "    brain = Brain.Brain()\n",
    "    brain.add_connectome(data_dir) # grabs distance matrix\n",
    "    # re-ordering for DK atlas and normalizing the connectomes:\n",
    "    brain.reorder_connectome(brain.connectome, brain.distance_matrix)\n",
    "    brain.connectome = C_ind # re-assign connectome to individual connectome\n",
    "    # brain.connectome = SC_volnorm_template\n",
    "    brain.bi_symmetric_c()\n",
    "    brain.reduce_extreme_dir()\n",
    "    brain.connectome = np.delete(brain.connectome,ind_regions_notpresent,0)\n",
    "    brain.connectome = np.delete(brain.connectome,ind_regions_notpresent,1)\n",
    "    brain.reducedConnectome = np.delete(brain.reducedConnectome,ind_regions_notpresent,0)\n",
    "    brain.reducedConnectome = np.delete(brain.reducedConnectome,ind_regions_notpresent,1)\n",
    "    brain.distance_matrix = np.delete(brain.distance_matrix,ind_regions_notpresent,0)\n",
    "    brain.distance_matrix = np.delete(brain.distance_matrix,ind_regions_notpresent,1)\n",
    "#     brain.distance_matrix = get_mean_C(brain.distance_matrix)\n",
    "\n",
    "    brain.ntf_params[\"tau_e\"] = df_in['tau_e'][s]/1000\n",
    "    brain.ntf_params[\"tau_i\"] = df_in['tau_i'][s]/1000\n",
    "    brain.ntf_params[\"alpha\"] = df_in['alpha'][s]\n",
    "    brain.ntf_params[\"speed\"] = df_in['speed'][s]\n",
    "    brain.ntf_params[\"gei\"] = df_in['gei'][s]\n",
    "    brain.ntf_params[\"gii\"] = df_in['gii'][s]\n",
    "    brain.ntf_params[\"tauC\"] = df_in['tauC'][s]/1000\n",
    "\n",
    "    model_spectrum, _, _, _ = run_local_coupling_forward(brain, brain.ntf_params, fvec, stimulus_roi, w_var, w_means)\n",
    "\n",
    "    model_spectrum = model_spectrum[rois_with_MEG,:]\n",
    "    # model_spectrum2 = model_spectrum2[rois_with_MEG,:]\n",
    "    \n",
    "    filfinal = 0\n",
    "    filfinal2 = 0\n",
    "    for g in range(len(model_spectrum)):\n",
    "        spectrum = np.abs(model_spectrum[g,:])        \n",
    "        filtered = functions.mag2db(spectrum)\n",
    "        filfinal += filtered\n",
    "\n",
    "    filfinal = filfinal/len(model_spectrum)\n",
    "    \n",
    "    # for g in range(len(model_spectrum2)):\n",
    "    #     spectrum2 = np.abs(model_spectrum2[g,:])        \n",
    "    #     filtered2 = functions.mag2db(spectrum2)\n",
    "    #     filfinal2 += filtered2\n",
    "\n",
    "    # filfinal2 = filfinal2/len(model_spectrum2)\n",
    "\n",
    "    # Return average psd for a specific subject (old or new depending on choice)\n",
    "\n",
    "    meg_spat, model_spat = run_local_coupling_forward_Xk(brain, brain.ntf_params, fvec, F_ind, 86, rois_with_MEG,\"alpha\", stimulus_roi, w_var, w_means)\n",
    "    \n",
    "    return filfinal, meg_spat, model_spat"
   ]
  },
  {
   "cell_type": "code",
   "execution_count": 20,
   "metadata": {},
   "outputs": [],
   "source": [
    "# Find top most regions in alpha band\n",
    "\n",
    "stimulus_roi = np.array([])\n",
    "\n",
    "nsubs = len(w_chosen[:,0])\n",
    "new_spectra = 0\n",
    "new_spectra2 = 0\n",
    "org_spectra_overall = 0\n",
    "meg_spat_tot = 0\n",
    "model_spat_tot = 0\n",
    "\n",
    "w_var = 1\n",
    "w_means = 0\n",
    "\n",
    "model_spectra_stimulus = np.zeros((44,40))\n",
    "model_spectra_stimulus2 = np.zeros((44,40))\n",
    "\n",
    "for i in range(nsubs):\n",
    "    \n",
    "    spec_predicted, meg_spat, model_spat = getpsd(ind_conn,ind_psd,rois_with_MEG,fvec,lpf,i,df_params, stimulus_roi, w_var, w_means)\n",
    "    new_spectra += spec_predicted\n",
    "    # new_spectra2 += spec_predicted2\n",
    "    meg_spat_tot += meg_spat\n",
    "    model_spat_tot += model_spat\n",
    "\n",
    "    org_spectra = 0\n",
    "    for g in rois_with_MEG:\n",
    "        # spectrum = ind_psd[g,:,i]\n",
    "        spectrum = functions.mag2db(ind_psd[g,:,i])\n",
    "#         spectrum = (spectrum - np.mean(spectrum))/(np.std(spectrum))\n",
    "        org_spectra += spectrum\n",
    "    org_spectra = org_spectra/len(rois_with_MEG)\n",
    "\n",
    "    org_spectra_overall += org_spectra\n",
    "    \n",
    "model_spectra_stimulus[0,:] = new_spectra/nsubs\n",
    "# model_spectra_stimulus2[0,:] = new_spectra2/nsubs\n",
    "    "
   ]
  },
  {
   "cell_type": "code",
   "execution_count": 21,
   "metadata": {},
   "outputs": [
    {
     "data": {
      "text/plain": [
       "[<matplotlib.lines.Line2D at 0x7fd0d80f4d90>]"
      ]
     },
     "execution_count": 21,
     "metadata": {},
     "output_type": "execute_result"
    },
    {
     "data": {
      "image/png": "[encoded data removed]",
      "text/plain": [
       "<Figure size 432x288 with 1 Axes>"
      ]
     },
     "metadata": {
      "needs_background": "light"
     },
     "output_type": "display_data"
    }
   ],
   "source": [
    "plt.plot(fvec,model_spectra_stimulus[0,:])"
   ]
  },
  {
   "cell_type": "code",
   "execution_count": 8,
   "metadata": {},
   "outputs": [
    {
     "data": {
      "text/plain": [
       "[<matplotlib.lines.Line2D at 0x7f92f4078340>]"
      ]
     },
     "execution_count": 8,
     "metadata": {},
     "output_type": "execute_result"
    },
    {
     "data": {
      "image/png": "[encoded data removed]",
      "text/plain": [
       "<Figure size 432x288 with 1 Axes>"
      ]
     },
     "metadata": {
      "needs_background": "light"
     },
     "output_type": "display_data"
    }
   ],
   "source": [
    "plt.plot(fvec,model_spectra_stimulus2[0,:])"
   ]
  },
  {
   "cell_type": "code",
   "execution_count": 9,
   "metadata": {},
   "outputs": [],
   "source": [
    "# def run_local_coupling_forward_nostim(brain, params, freqs, w_var, w_means):\n",
    "\n",
    "#     eigenvalues = []\n",
    "#     eigenvectors = []\n",
    "#     frequency_response = []\n",
    "#     model_out = []\n",
    "#     model_out2 = []\n",
    "\n",
    "#     for freq in freqs:\n",
    "#         w = 2 * np.pi * freq\n",
    "#         freq_model, freq_resp, eig_val, eig_vec = nt_nostimulus.network_transfer_local_alpha(\n",
    "#             brain, params, w, w_var, w_means\n",
    "#         )\n",
    "#         frequency_response.append(freq_resp)\n",
    "#         eigenvalues.append(eig_val)\n",
    "#         eigenvectors.append(eig_vec)\n",
    "#         model_out.append(freq_model)\n",
    "\n",
    "#     frequency_response = np.asarray(frequency_response)\n",
    "#     eigenvalues = np.asarray(eigenvalues)\n",
    "#     eigenvectors = np.asarray(eigenvectors)\n",
    "#     model_out = np.transpose(np.asarray(model_out))\n",
    "\n",
    "#     return model_out, frequency_response, eigenvalues, eigenvectors\n",
    "\n",
    "\n",
    "# def getpsd_nostim(cdk,psd,rois_with_MEG,fvec,lpf,s,df_in, w_var, w_means):\n",
    "\n",
    "#     C_ind = cdk[:,:,s] # grab current subject's individual connectome\n",
    "#     F_ind = psd[:,:,s] # grab current subject's MEG\n",
    "\n",
    "#     data_dir = path.get_data_path()\n",
    "#     # create spectrome brain:\n",
    "#     brain = Brain.Brain()\n",
    "#     brain.add_connectome(data_dir) # grabs distance matrix\n",
    "#     # re-ordering for DK atlas and normalizing the connectomes:\n",
    "#     brain.reorder_connectome(brain.connectome, brain.distance_matrix)\n",
    "#     brain.connectome = C_ind # re-assign connectome to individual connectome\n",
    "#     # brain.connectome = SC_volnorm_template\n",
    "#     brain.bi_symmetric_c()\n",
    "#     brain.reduce_extreme_dir()\n",
    "# #     brain.distance_matrix = get_mean_C(brain.distance_matrix)\n",
    "\n",
    "#     brain.ntf_params[\"tau_e\"] = df_in['tau_e'][s]/1000\n",
    "#     brain.ntf_params[\"tau_i\"] = df_in['tau_i'][s]/1000\n",
    "#     brain.ntf_params[\"alpha\"] = df_in['alpha'][s]\n",
    "#     brain.ntf_params[\"speed\"] = df_in['speed'][s]\n",
    "#     brain.ntf_params[\"gei\"] = df_in['gei'][s]\n",
    "#     brain.ntf_params[\"gii\"] = df_in['gii'][s]\n",
    "#     brain.ntf_params[\"tauC\"] = df_in['tauC'][s]/1000\n",
    "\n",
    "#     model_spectrum, _, _, _ = run_local_coupling_forward_nostim(brain, brain.ntf_params, fvec, w_var, w_means)\n",
    "\n",
    "#     model_spectrum = model_spectrum[rois_with_MEG,:]\n",
    "    \n",
    "#     filfinal = 0\n",
    "#     for g in range(len(model_spectrum)):\n",
    "#         spectrum = np.abs(model_spectrum[g,:])        \n",
    "#         filtered = functions.mag2db(spectrum)\n",
    "#         filfinal += filtered\n",
    "\n",
    "#     filfinal = filfinal/len(model_spectrum)\n",
    "\n",
    "#     return filfinal\n",
    "\n",
    "# new_spectra = 0\n",
    "# org_spectra_overall = 0\n",
    "# meg_spat_tot = 0\n",
    "# model_spat_tot = 0\n",
    "\n",
    "# w_var = 1\n",
    "# w_means = 1\n",
    "\n",
    "# for i in range(nsubs):\n",
    "    \n",
    "#     spec_predicted = getpsd_nostim(ind_conn,ind_psd,rois_with_MEG,fvec,lpf,i,df_params, w_var, w_means)\n",
    "#     new_spectra += spec_predicted\n",
    "\n",
    "    \n",
    "# new_spectra = new_spectra/nsubs\n"
   ]
  },
  {
   "cell_type": "code",
   "execution_count": 10,
   "metadata": {},
   "outputs": [],
   "source": [
    "# plt.plot(fvec,new_spectra)"
   ]
  },
  {
   "cell_type": "code",
   "execution_count": 11,
   "metadata": {},
   "outputs": [
    {
     "name": "stdout",
     "output_type": "stream",
     "text": [
      "(array([ 3,  8, 11, 15, 19, 21, 23, 27, 37, 42, 45, 49, 53, 55, 57, 61]),)\n",
      "['LHcuneus' 'LHisthmuscingulate' 'LHlingual' 'LHparacentral'\n",
      " 'LHpericalcarine' 'LHposteriorcingulate' 'LHprecuneus'\n",
      " 'LHsuperiorparietal' 'RHcuneus' 'RHisthmuscingulate' 'RHlingual'\n",
      " 'RHparacentral' 'RHpericalcarine' 'RHposteriorcingulate' 'RHprecuneus'\n",
      " 'RHsuperiorparietal']\n"
     ]
    }
   ],
   "source": [
    "alpha_tot = minmax_scale(meg_spat_tot)\n",
    "alpha_roi = np.where(alpha_tot>=0.4)\n",
    "print(alpha_roi)\n",
    "print(ind_regions[alpha_roi])"
   ]
  },
  {
   "cell_type": "code",
   "execution_count": 12,
   "metadata": {},
   "outputs": [
    {
     "data": {
      "text/plain": [
       "Text(0, 0.5, 'Scaled alpha power')"
      ]
     },
     "execution_count": 12,
     "metadata": {},
     "output_type": "execute_result"
    },
    {
     "data": {
      "image/png": "[encoded data removed]",
      "text/plain": [
       "<Figure size 432x288 with 1 Axes>"
      ]
     },
     "metadata": {
      "needs_background": "light"
     },
     "output_type": "display_data"
    }
   ],
   "source": [
    "plt.scatter(range(68),alpha_tot)\n",
    "plt.axhline(y = 0.4, color = 'k', linestyle = '--')\n",
    "plt.xlabel('ROI',fontsize=15)\n",
    "plt.ylabel('Scaled alpha power',fontsize=15)"
   ]
  },
  {
   "cell_type": "code",
   "execution_count": 27,
   "metadata": {},
   "outputs": [
    {
     "data": {
      "text/plain": [
       "<module 'spectrome.forward.network_transfer_macrostable_microintensity_extrastimulus' from '../../spectrome/forward/network_transfer_macrostable_microintensity_extrastimulus.py'>"
      ]
     },
     "execution_count": 27,
     "metadata": {},
     "output_type": "execute_result"
    }
   ],
   "source": [
    "# import importlib\n",
    "# importlib.reload(nt)"
   ]
  },
  {
   "cell_type": "code",
   "execution_count": 28,
   "metadata": {},
   "outputs": [],
   "source": [
    "alpha_stimulus_fraction = []\n",
    "\n",
    "alpha_tot = np.sum(model_spat_tot[alpha_roi])\n",
    "alpha_stimulus_fraction.append(alpha_tot/np.sum(model_spat_tot))\n",
    "\n",
    "w_var = 1\n",
    "w_means = 1\n",
    "\n",
    "for roi in range(34):\n",
    "    stimulus_roi_selected = np.array([roi,roi+34])\n",
    "    new_spectra = 0\n",
    "    meg_spat_tot = 0\n",
    "    model_spat_tot = 0\n",
    "    \n",
    "    for i in range(nsubs):\n",
    "    \n",
    "        spec_predicted, _, meg_spat, model_spat = getpsd(ind_conn,ind_psd,rois_with_MEG,fvec,lpf,i,df_params, stimulus_roi_selected, w_var, w_means)\n",
    "        new_spectra += spec_predicted\n",
    "        meg_spat_tot += meg_spat\n",
    "        model_spat_tot += model_spat\n",
    "\n",
    "    alpha_tot = np.sum(model_spat_tot[alpha_roi])\n",
    "    alpha_stimulus_fraction.append(alpha_tot/np.sum(model_spat_tot))\n",
    "    model_spectra_stimulus[roi+1,:] = new_spectra/nsubs\n",
    "    \n",
    "for roi in range(9):\n",
    "    stimulus_roi_selected = np.array([roi+68,roi+68+9])\n",
    "    new_spectra = 0\n",
    "    meg_spat_tot = 0\n",
    "    model_spat_tot = 0\n",
    "    \n",
    "    for i in range(nsubs):\n",
    "    \n",
    "        spec_predicted, _, meg_spat, model_spat = getpsd(ind_conn,ind_psd,rois_with_MEG,fvec,lpf,i,df_params, stimulus_roi_selected, w_var, w_means)\n",
    "        new_spectra += spec_predicted\n",
    "        meg_spat_tot += meg_spat\n",
    "        model_spat_tot += model_spat\n",
    "\n",
    "    alpha_tot = np.sum(model_spat_tot[alpha_roi])\n",
    "    alpha_stimulus_fraction.append(alpha_tot/np.sum(model_spat_tot))    \n",
    "    model_spectra_stimulus[roi+34+1,:] = new_spectra/nsubs"
   ]
  },
  {
   "cell_type": "code",
   "execution_count": 14,
   "metadata": {},
   "outputs": [
    {
     "data": {
      "text/plain": [
       "44"
      ]
     },
     "execution_count": 14,
     "metadata": {},
     "output_type": "execute_result"
    }
   ],
   "source": [
    "len(alpha_stimulus_fraction)"
   ]
  },
  {
   "cell_type": "code",
   "execution_count": 15,
   "metadata": {},
   "outputs": [],
   "source": [
    "stimulating_regions = []\n",
    "stimulating_regions.extend(ind_regions[0:34].tolist())\n",
    "stimulating_regions.extend(ind_regions[68:68+9].tolist())\n",
    "# stimulating_regions"
   ]
  },
  {
   "cell_type": "code",
   "execution_count": 16,
   "metadata": {},
   "outputs": [],
   "source": [
    "stimulating_regions_bothsides = []\n",
    "for i in range(len(ind_regions[0:34])):\n",
    "    sp1 = stimulating_regions[i].split('LH')[1]\n",
    "    stimulating_regions_bothsides.append(sp1)\n",
    "    \n",
    "for i in range(len(ind_regions[68:68+9])):\n",
    "    sp1 = stimulating_regions[i+34].split('Left-')[1]\n",
    "    stimulating_regions_bothsides.append(sp1)\n",
    "    \n",
    "stimulating_regions_bothsides[-1] = \"Hypothalamus\""
   ]
  },
  {
   "cell_type": "code",
   "execution_count": 17,
   "metadata": {},
   "outputs": [
    {
     "data": {
      "text/plain": [
       "['bankssts',\n",
       " 'caudalanteriorcingulate',\n",
       " 'caudalmiddlefrontal',\n",
       " 'cuneus',\n",
       " 'entorhinal',\n",
       " 'fusiform',\n",
       " 'inferiorparietal',\n",
       " 'inferiortemporal',\n",
       " 'isthmuscingulate',\n",
       " 'lateraloccipital',\n",
       " 'lateralorbitofrontal',\n",
       " 'lingual',\n",
       " 'medialorbitofrontal',\n",
       " 'middletemporal',\n",
       " 'parahippocampal',\n",
       " 'paracentral',\n",
       " 'parsopercularis',\n",
       " 'parsorbitalis',\n",
       " 'parstriangularis',\n",
       " 'pericalcarine',\n",
       " 'postcentral',\n",
       " 'posteriorcingulate',\n",
       " 'precentral',\n",
       " 'precuneus',\n",
       " 'rostralanteriorcingulate',\n",
       " 'rostralmiddlefrontal',\n",
       " 'superiorfrontal',\n",
       " 'superiorparietal',\n",
       " 'superiortemporal',\n",
       " 'supramarginal',\n",
       " 'frontalpole',\n",
       " 'temporalpole',\n",
       " 'transversetemporal',\n",
       " 'insula',\n",
       " 'Cerebellum-Cortex',\n",
       " 'Thalamus-Proper',\n",
       " 'Caudate',\n",
       " 'Putamen',\n",
       " 'Pallidum',\n",
       " 'Hippocampus',\n",
       " 'Amygdala',\n",
       " 'Accumbens-area',\n",
       " 'Hypothalamus']"
      ]
     },
     "execution_count": 17,
     "metadata": {},
     "output_type": "execute_result"
    }
   ],
   "source": [
    "stimulating_regions_bothsides"
   ]
  },
  {
   "cell_type": "code",
   "execution_count": 18,
   "metadata": {},
   "outputs": [],
   "source": [
    "# RSN\n",
    "RSN = pd.read_csv(\"/data/rajlab1/shared_data/datasets/RSN/DK_atlas_RSN.csv\")"
   ]
  },
  {
   "cell_type": "code",
   "execution_count": 19,
   "metadata": {},
   "outputs": [],
   "source": [
    "RSN_regions = []\n",
    "RSN_func_idx = []\n",
    "RSN_labels = []\n",
    "\n",
    "RSN_regions.extend(RSN[\"Other Name 5\"][0:34].tolist())\n",
    "RSN_regions.extend(RSN[\"Other Name 5\"][68:68+9].tolist())\n",
    "\n",
    "RSN_func_idx.extend(RSN[\"Functional System IDX\"][0:34].tolist())\n",
    "RSN_func_idx.extend(RSN[\"Functional System IDX\"][68:68+9].tolist())\n",
    "\n",
    "RSN_labels.extend(RSN[\"functional_system\"][0:34].tolist())\n",
    "RSN_labels.extend(RSN[\"functional_system\"][68:68+9].tolist())\n",
    "# RSN[\"Other Name 5\"]\n",
    "# RSN[\"Functional System IDX\"]"
   ]
  },
  {
   "cell_type": "code",
   "execution_count": 20,
   "metadata": {},
   "outputs": [],
   "source": [
    "d = {x: a for a, x in enumerate(stimulating_regions_bothsides)}\n",
    "orderedind = [d[x] for x in RSN_regions]\n",
    "# orderedind\n",
    "# for i in range(len(orderedind)):\n",
    "#     assert i == orderedind[i]"
   ]
  },
  {
   "cell_type": "code",
   "execution_count": 21,
   "metadata": {},
   "outputs": [],
   "source": [
    "RSN_order = np.array(RSN_func_idx)[orderedind]\n",
    "RSN_order\n",
    "RSN_labels_order = np.array(RSN_labels)[orderedind]"
   ]
  },
  {
   "cell_type": "code",
   "execution_count": 22,
   "metadata": {},
   "outputs": [
    {
     "data": {
      "text/plain": [
       "(43,)"
      ]
     },
     "execution_count": 22,
     "metadata": {},
     "output_type": "execute_result"
    }
   ],
   "source": [
    "RSN_labels_order.shape"
   ]
  },
  {
   "cell_type": "code",
   "execution_count": 23,
   "metadata": {},
   "outputs": [
    {
     "data": {
      "image/png": "[encoded data removed]",
      "text/plain": [
       "<Figure size 432x288 with 1 Axes>"
      ]
     },
     "metadata": {
      "needs_background": "light"
     },
     "output_type": "display_data"
    }
   ],
   "source": [
    "group = RSN_labels_order\n",
    "cdict = {1: '#a50026', 2: '#d73027', 3: '#f46d43', 4: '#fdae61', 5: '#fee090', 6: '#ffffbf', 7: '#e0f3f8', 8: '#abd9e9', 9: '#74add1', \n",
    "         10: '#4575b4', 11: '#313695'}\n",
    "#a50026\n",
    "#d73027\n",
    "#f46d43\n",
    "#fdae61\n",
    "#fee090\n",
    "#ffffbf\n",
    "#e0f3f8\n",
    "#abd9e9\n",
    "#74add1\n",
    "#4575b4\n",
    "#313695\n",
    "scatter_x = np.arange(0,43)\n",
    "\n",
    "fig, ax = plt.subplots()\n",
    "for i, g in enumerate(np.unique(group)):\n",
    "    ix = np.where(group == g)[0]\n",
    "    ax.scatter(scatter_x[ix], np.array(alpha_stimulus_fraction)[ix+1], c = cdict[i+1], label = g, s = 100)\n",
    "# ax.legend(loc='center left')\n",
    "plt.legend(bbox_to_anchor=(1.04, 1), loc=\"upper left\",fontsize=15)\n",
    "plt.axhline(y = alpha_stimulus_fraction[0], color = 'k', linestyle = '--')\n",
    "plt.xlabel('ROI',fontsize=17)\n",
    "plt.ylabel('Relative alpha power',fontsize=17)\n",
    "plt.show()\n",
    "\n",
    "# plt.figure()\n",
    "\n",
    "# plt.scatter(range(43),alpha_stimulus_fraction[1:],label=RSN_order)"
   ]
  },
  {
   "cell_type": "code",
   "execution_count": 24,
   "metadata": {},
   "outputs": [
    {
     "data": {
      "image/png": "[encoded data removed]",
      "text/plain": [
       "<Figure size 432x288 with 1 Axes>"
      ]
     },
     "metadata": {
      "needs_background": "light"
     },
     "output_type": "display_data"
    }
   ],
   "source": [
    "fig, ax = plt.subplots()\n",
    "for i, g in enumerate(np.unique(group)):\n",
    "    ix = np.where(group == g)[0]\n",
    "    ax.plot(fvec, np.transpose(model_spectra_stimulus[ix+1,:]), c = cdict[i+1])\n",
    "# ax.legend(loc='center left')\n",
    "for i, g in enumerate(np.unique(group)):\n",
    "    ix = np.where(group == g)[0]\n",
    "    ax.plot([], [], c = cdict[i+1], label = g)\n",
    "plt.legend(bbox_to_anchor=(1.04, 1), loc=\"upper left\",fontsize=15)\n",
    "ax.plot(fvec, model_spectra_stimulus[0,:], color = 'k', linestyle = '--')\n",
    "plt.xlabel('Frequency (Hz)',fontsize=17)\n",
    "plt.ylabel('Spectral power (dB)',fontsize=17)\n",
    "plt.show()"
   ]
  },
  {
   "cell_type": "code",
   "execution_count": 25,
   "metadata": {},
   "outputs": [
    {
     "name": "stdout",
     "output_type": "stream",
     "text": [
      "[]\n",
      "[]\n"
     ]
    }
   ],
   "source": [
    "ind_alphaincrease = np.where(np.array(alpha_stimulus_fraction)>0.3)[0]-1\n",
    "print(ind_alphaincrease)\n",
    "print(np.array(stimulating_regions_bothsides)[ind_alphaincrease])"
   ]
  },
  {
   "cell_type": "code",
   "execution_count": 26,
   "metadata": {},
   "outputs": [
    {
     "name": "stdout",
     "output_type": "stream",
     "text": [
      "[]\n",
      "[]\n"
     ]
    }
   ],
   "source": [
    "ind_alphadecrease = np.where(np.array(alpha_stimulus_fraction)<0.292)[0]-1\n",
    "print(ind_alphadecrease)\n",
    "print(np.array(stimulating_regions_bothsides)[ind_alphadecrease])"
   ]
  },
  {
   "cell_type": "code",
   "execution_count": 31,
   "metadata": {},
   "outputs": [],
   "source": [
    "\n",
    "ind=4\n",
    "\n",
    "stimulus_roi_selected = np.array([ind_alphaincrease[ind],ind_alphaincrease[ind]+34])\n",
    "\n",
    "\n",
    "model_spat_tot = 0\n",
    "\n",
    "for i in range(nsubs):\n",
    "\n",
    "    model_spec, _, _, model_spat = getpsd(ind_conn,ind_psd,rois_with_MEG,fvec,lpf,i,df_params, stimulus_roi_selected, w_var, w_means)\n",
    "    model_spat_tot += model_spat\n",
    "    model_spec_tot += model_spec\n",
    "\n",
    "# filename = f'/data/rajlab1/user_data/parul/spectrome-spatial_results/results/spatial/stim/'+f'{stimulating_regions_bothsides[stimulus_roi_selected[0]]}.p'\n",
    "# with open(filename, 'wb') as f:\n",
    "#     pkl.dump(model_spat_tot, f) "
   ]
  },
  {
   "cell_type": "code",
   "execution_count": 30,
   "metadata": {},
   "outputs": [
    {
     "data": {
      "text/plain": [
       "<module 'spectrome.forward.network_transfer_macrostable_microintensity_extrastimulus' from '../../spectrome/forward/network_transfer_macrostable_microintensity_extrastimulus.py'>"
      ]
     },
     "execution_count": 30,
     "metadata": {},
     "output_type": "execute_result"
    }
   ],
   "source": [
    "# import importlib\n",
    "# importlib.reload(nt)"
   ]
  },
  {
   "cell_type": "code",
   "execution_count": 23,
   "metadata": {},
   "outputs": [],
   "source": [
    "stimulus_roi_selected = np.array([])\n",
    "\n",
    "new_spectra = 0\n",
    "org_spectra_overall = 0\n",
    "meg_spat_tot = 0\n",
    "model_spat_tot = 0\n",
    "\n",
    "w_var = 1\n",
    "w_means = 1\n",
    "\n",
    "for i in range(nsubs):\n",
    "    \n",
    "    spec_predicted, meg_spat, model_spat = getpsd(ind_conn,ind_psd,rois_with_MEG,fvec,lpf,i,df_params, stimulus_roi_selected, w_var, w_means)\n",
    "    new_spectra += spec_predicted\n",
    "    meg_spat_tot += meg_spat\n",
    "    model_spat_tot += model_spat\n",
    "\n",
    "    org_spectra = 0\n",
    "    for g in rois_with_MEG:\n",
    "        # spectrum = ind_psd[g,:,i]\n",
    "        spectrum = functions.mag2db(ind_psd[g,:,i])\n",
    "#         spectrum = (spectrum - np.mean(spectrum))/(np.std(spectrum))\n",
    "        org_spectra += spectrum\n",
    "    org_spectra = org_spectra/len(rois_with_MEG)\n",
    "\n",
    "    org_spectra_overall += org_spectra\n",
    "\n",
    "new_spectra = new_spectra/nsubs\n",
    "org_spectra_overall = org_spectra_overall/nsubs\n",
    "\n",
    "meg_spat_tot = meg_spat_tot/nsubs\n",
    "model_spat_tot = model_spat_tot/nsubs\n",
    "\n"
   ]
  },
  {
   "cell_type": "code",
   "execution_count": 24,
   "metadata": {},
   "outputs": [
    {
     "data": {
      "image/png": "[encoded data removed]",
      "text/plain": [
       "<Figure size 432x288 with 1 Axes>"
      ]
     },
     "metadata": {
      "needs_background": "light"
     },
     "output_type": "display_data"
    }
   ],
   "source": [
    "plt.rcParams.update({\n",
    "    \"mathtext.fontset\": \"stix\",\n",
    "    \"font.family\": \"STIXGeneral\",\n",
    "    \"xtick.labelsize\": 15,\n",
    "    \"ytick.labelsize\": 15\n",
    "})\n",
    "\n",
    "new_c = '#0571b0'\n",
    "\n",
    "new_normalized = (new_spectra - np.mean(new_spectra))/(np.std(new_spectra))\n",
    "org_normalized = (org_spectra_overall - np.mean(org_spectra_overall))/(np.std(org_spectra_overall))\n",
    "\n",
    "colorp = sns.color_palette(\"colorblind\",n_colors=3)\n",
    "\n",
    "fig, ax = plt.subplots()\n",
    "\n",
    "\n",
    "ax.plot(fvec,org_normalized,linestyle = '-',marker = 's',fillstyle = 'none',color = 'k', label = \"MEG\", alpha = 0.8)\n",
    "ax.plot(fvec,new_normalized,linestyle = '-',marker = 'o',fillstyle = 'none',color = new_c, label = \"SGM\", alpha = 0.8)\n",
    "\n",
    "ax.legend(fontsize = 20)\n",
    "ax.set_xlabel('Frequency (Hz)', fontsize = 25)\n",
    "ax.set_ylabel('Normalized PSD', fontsize = 25)\n",
    "\n",
    "plt.tight_layout()"
   ]
  },
  {
   "cell_type": "code",
   "execution_count": 25,
   "metadata": {},
   "outputs": [],
   "source": [
    "# filename = f'/data/rajlab1/user_data/parul/spectrome-spatial_results/results/spatial/receptor/trial1.p'\n",
    "# with open(filename, 'wb') as f:\n",
    "#     pkl.dump(model_spat_tot, f) "
   ]
  },
  {
   "cell_type": "code",
   "execution_count": null,
   "metadata": {},
   "outputs": [],
   "source": []
  }
 ],
 "metadata": {
  "kernelspec": {
   "display_name": "spectrome",
   "language": "python",
   "name": "spectrome"
  },
  "language_info": {
   "codemirror_mode": {
    "name": "ipython",
    "version": 3
   },
   "file_extension": ".py",
   "mimetype": "text/x-python",
   "name": "python",
   "nbconvert_exporter": "python",
   "pygments_lexer": "ipython3",
   "version": "3.8.5"
  }
 },
 "nbformat": 4,
 "nbformat_minor": 4
}
